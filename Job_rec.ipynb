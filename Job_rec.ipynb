{
  "nbformat": 4,
  "nbformat_minor": 0,
  "metadata": {
    "colab": {
      "provenance": []
    },
    "kernelspec": {
      "name": "python3",
      "display_name": "Python 3"
    },
    "language_info": {
      "name": "python"
    },
    "widgets": {
      "application/vnd.jupyter.widget-state+json": {
        "41b53c3331e64e30adf141fa0b1539ae": {
          "model_module": "@jupyter-widgets/controls",
          "model_name": "HBoxModel",
          "model_module_version": "1.5.0",
          "state": {
            "_dom_classes": [],
            "_model_module": "@jupyter-widgets/controls",
            "_model_module_version": "1.5.0",
            "_model_name": "HBoxModel",
            "_view_count": null,
            "_view_module": "@jupyter-widgets/controls",
            "_view_module_version": "1.5.0",
            "_view_name": "HBoxView",
            "box_style": "",
            "children": [
              "IPY_MODEL_13356433023f4373b8df31e4faed67f4",
              "IPY_MODEL_cd6601e3347a4d8290d27f2f8704a179",
              "IPY_MODEL_a77edfa377444c5b85a38ede2d67489b"
            ],
            "layout": "IPY_MODEL_e122bbc2a17547bc876fe669773cf01e"
          }
        },
        "13356433023f4373b8df31e4faed67f4": {
          "model_module": "@jupyter-widgets/controls",
          "model_name": "HTMLModel",
          "model_module_version": "1.5.0",
          "state": {
            "_dom_classes": [],
            "_model_module": "@jupyter-widgets/controls",
            "_model_module_version": "1.5.0",
            "_model_name": "HTMLModel",
            "_view_count": null,
            "_view_module": "@jupyter-widgets/controls",
            "_view_module_version": "1.5.0",
            "_view_name": "HTMLView",
            "description": "",
            "description_tooltip": null,
            "layout": "IPY_MODEL_d65cc7844dd8418fb68b4f2ed32a7557",
            "placeholder": "​",
            "style": "IPY_MODEL_596ba22ac79b4e1ca85cd7c0f8444fa7",
            "value": "100%"
          }
        },
        "cd6601e3347a4d8290d27f2f8704a179": {
          "model_module": "@jupyter-widgets/controls",
          "model_name": "FloatProgressModel",
          "model_module_version": "1.5.0",
          "state": {
            "_dom_classes": [],
            "_model_module": "@jupyter-widgets/controls",
            "_model_module_version": "1.5.0",
            "_model_name": "FloatProgressModel",
            "_view_count": null,
            "_view_module": "@jupyter-widgets/controls",
            "_view_module_version": "1.5.0",
            "_view_name": "ProgressView",
            "bar_style": "success",
            "description": "",
            "description_tooltip": null,
            "layout": "IPY_MODEL_42ea0727062d48b5bc708f6b9403ed0f",
            "max": 15,
            "min": 0,
            "orientation": "horizontal",
            "style": "IPY_MODEL_f91687fb4cf64e0db0452c6f3b3f93d1",
            "value": 15
          }
        },
        "a77edfa377444c5b85a38ede2d67489b": {
          "model_module": "@jupyter-widgets/controls",
          "model_name": "HTMLModel",
          "model_module_version": "1.5.0",
          "state": {
            "_dom_classes": [],
            "_model_module": "@jupyter-widgets/controls",
            "_model_module_version": "1.5.0",
            "_model_name": "HTMLModel",
            "_view_count": null,
            "_view_module": "@jupyter-widgets/controls",
            "_view_module_version": "1.5.0",
            "_view_name": "HTMLView",
            "description": "",
            "description_tooltip": null,
            "layout": "IPY_MODEL_8a42d24309794d2aa6ef8748eb80df63",
            "placeholder": "​",
            "style": "IPY_MODEL_708fe44e11c5443c8934bbf43bf260d6",
            "value": " 15/15 [00:09&lt;00:00,  1.74it/s]"
          }
        },
        "e122bbc2a17547bc876fe669773cf01e": {
          "model_module": "@jupyter-widgets/base",
          "model_name": "LayoutModel",
          "model_module_version": "1.2.0",
          "state": {
            "_model_module": "@jupyter-widgets/base",
            "_model_module_version": "1.2.0",
            "_model_name": "LayoutModel",
            "_view_count": null,
            "_view_module": "@jupyter-widgets/base",
            "_view_module_version": "1.2.0",
            "_view_name": "LayoutView",
            "align_content": null,
            "align_items": null,
            "align_self": null,
            "border": null,
            "bottom": null,
            "display": null,
            "flex": null,
            "flex_flow": null,
            "grid_area": null,
            "grid_auto_columns": null,
            "grid_auto_flow": null,
            "grid_auto_rows": null,
            "grid_column": null,
            "grid_gap": null,
            "grid_row": null,
            "grid_template_areas": null,
            "grid_template_columns": null,
            "grid_template_rows": null,
            "height": null,
            "justify_content": null,
            "justify_items": null,
            "left": null,
            "margin": null,
            "max_height": null,
            "max_width": null,
            "min_height": null,
            "min_width": null,
            "object_fit": null,
            "object_position": null,
            "order": null,
            "overflow": null,
            "overflow_x": null,
            "overflow_y": null,
            "padding": null,
            "right": null,
            "top": null,
            "visibility": null,
            "width": null
          }
        },
        "d65cc7844dd8418fb68b4f2ed32a7557": {
          "model_module": "@jupyter-widgets/base",
          "model_name": "LayoutModel",
          "model_module_version": "1.2.0",
          "state": {
            "_model_module": "@jupyter-widgets/base",
            "_model_module_version": "1.2.0",
            "_model_name": "LayoutModel",
            "_view_count": null,
            "_view_module": "@jupyter-widgets/base",
            "_view_module_version": "1.2.0",
            "_view_name": "LayoutView",
            "align_content": null,
            "align_items": null,
            "align_self": null,
            "border": null,
            "bottom": null,
            "display": null,
            "flex": null,
            "flex_flow": null,
            "grid_area": null,
            "grid_auto_columns": null,
            "grid_auto_flow": null,
            "grid_auto_rows": null,
            "grid_column": null,
            "grid_gap": null,
            "grid_row": null,
            "grid_template_areas": null,
            "grid_template_columns": null,
            "grid_template_rows": null,
            "height": null,
            "justify_content": null,
            "justify_items": null,
            "left": null,
            "margin": null,
            "max_height": null,
            "max_width": null,
            "min_height": null,
            "min_width": null,
            "object_fit": null,
            "object_position": null,
            "order": null,
            "overflow": null,
            "overflow_x": null,
            "overflow_y": null,
            "padding": null,
            "right": null,
            "top": null,
            "visibility": null,
            "width": null
          }
        },
        "596ba22ac79b4e1ca85cd7c0f8444fa7": {
          "model_module": "@jupyter-widgets/controls",
          "model_name": "DescriptionStyleModel",
          "model_module_version": "1.5.0",
          "state": {
            "_model_module": "@jupyter-widgets/controls",
            "_model_module_version": "1.5.0",
            "_model_name": "DescriptionStyleModel",
            "_view_count": null,
            "_view_module": "@jupyter-widgets/base",
            "_view_module_version": "1.2.0",
            "_view_name": "StyleView",
            "description_width": ""
          }
        },
        "42ea0727062d48b5bc708f6b9403ed0f": {
          "model_module": "@jupyter-widgets/base",
          "model_name": "LayoutModel",
          "model_module_version": "1.2.0",
          "state": {
            "_model_module": "@jupyter-widgets/base",
            "_model_module_version": "1.2.0",
            "_model_name": "LayoutModel",
            "_view_count": null,
            "_view_module": "@jupyter-widgets/base",
            "_view_module_version": "1.2.0",
            "_view_name": "LayoutView",
            "align_content": null,
            "align_items": null,
            "align_self": null,
            "border": null,
            "bottom": null,
            "display": null,
            "flex": null,
            "flex_flow": null,
            "grid_area": null,
            "grid_auto_columns": null,
            "grid_auto_flow": null,
            "grid_auto_rows": null,
            "grid_column": null,
            "grid_gap": null,
            "grid_row": null,
            "grid_template_areas": null,
            "grid_template_columns": null,
            "grid_template_rows": null,
            "height": null,
            "justify_content": null,
            "justify_items": null,
            "left": null,
            "margin": null,
            "max_height": null,
            "max_width": null,
            "min_height": null,
            "min_width": null,
            "object_fit": null,
            "object_position": null,
            "order": null,
            "overflow": null,
            "overflow_x": null,
            "overflow_y": null,
            "padding": null,
            "right": null,
            "top": null,
            "visibility": null,
            "width": null
          }
        },
        "f91687fb4cf64e0db0452c6f3b3f93d1": {
          "model_module": "@jupyter-widgets/controls",
          "model_name": "ProgressStyleModel",
          "model_module_version": "1.5.0",
          "state": {
            "_model_module": "@jupyter-widgets/controls",
            "_model_module_version": "1.5.0",
            "_model_name": "ProgressStyleModel",
            "_view_count": null,
            "_view_module": "@jupyter-widgets/base",
            "_view_module_version": "1.2.0",
            "_view_name": "StyleView",
            "bar_color": null,
            "description_width": ""
          }
        },
        "8a42d24309794d2aa6ef8748eb80df63": {
          "model_module": "@jupyter-widgets/base",
          "model_name": "LayoutModel",
          "model_module_version": "1.2.0",
          "state": {
            "_model_module": "@jupyter-widgets/base",
            "_model_module_version": "1.2.0",
            "_model_name": "LayoutModel",
            "_view_count": null,
            "_view_module": "@jupyter-widgets/base",
            "_view_module_version": "1.2.0",
            "_view_name": "LayoutView",
            "align_content": null,
            "align_items": null,
            "align_self": null,
            "border": null,
            "bottom": null,
            "display": null,
            "flex": null,
            "flex_flow": null,
            "grid_area": null,
            "grid_auto_columns": null,
            "grid_auto_flow": null,
            "grid_auto_rows": null,
            "grid_column": null,
            "grid_gap": null,
            "grid_row": null,
            "grid_template_areas": null,
            "grid_template_columns": null,
            "grid_template_rows": null,
            "height": null,
            "justify_content": null,
            "justify_items": null,
            "left": null,
            "margin": null,
            "max_height": null,
            "max_width": null,
            "min_height": null,
            "min_width": null,
            "object_fit": null,
            "object_position": null,
            "order": null,
            "overflow": null,
            "overflow_x": null,
            "overflow_y": null,
            "padding": null,
            "right": null,
            "top": null,
            "visibility": null,
            "width": null
          }
        },
        "708fe44e11c5443c8934bbf43bf260d6": {
          "model_module": "@jupyter-widgets/controls",
          "model_name": "DescriptionStyleModel",
          "model_module_version": "1.5.0",
          "state": {
            "_model_module": "@jupyter-widgets/controls",
            "_model_module_version": "1.5.0",
            "_model_name": "DescriptionStyleModel",
            "_view_count": null,
            "_view_module": "@jupyter-widgets/base",
            "_view_module_version": "1.2.0",
            "_view_name": "StyleView",
            "description_width": ""
          }
        },
        "dccb4baeb32044e1b3b4c5284d42a3ad": {
          "model_module": "@jupyter-widgets/controls",
          "model_name": "HBoxModel",
          "model_module_version": "1.5.0",
          "state": {
            "_dom_classes": [],
            "_model_module": "@jupyter-widgets/controls",
            "_model_module_version": "1.5.0",
            "_model_name": "HBoxModel",
            "_view_count": null,
            "_view_module": "@jupyter-widgets/controls",
            "_view_module_version": "1.5.0",
            "_view_name": "HBoxView",
            "box_style": "",
            "children": [
              "IPY_MODEL_932edbf3131049e8a89f08b84b11cd0b",
              "IPY_MODEL_0a2a249b114b4ea2b5f45b9e12304bae",
              "IPY_MODEL_368fda75254e4057bd10c7ab4ed33459"
            ],
            "layout": "IPY_MODEL_0083819187534a6a807505fa9f82cc99"
          }
        },
        "932edbf3131049e8a89f08b84b11cd0b": {
          "model_module": "@jupyter-widgets/controls",
          "model_name": "HTMLModel",
          "model_module_version": "1.5.0",
          "state": {
            "_dom_classes": [],
            "_model_module": "@jupyter-widgets/controls",
            "_model_module_version": "1.5.0",
            "_model_name": "HTMLModel",
            "_view_count": null,
            "_view_module": "@jupyter-widgets/controls",
            "_view_module_version": "1.5.0",
            "_view_name": "HTMLView",
            "description": "",
            "description_tooltip": null,
            "layout": "IPY_MODEL_16798c699b74421dbc4d9f4586fa9e7c",
            "placeholder": "​",
            "style": "IPY_MODEL_8ff8dfdd03cb4610bb3da6e3183750ba",
            "value": "100%"
          }
        },
        "0a2a249b114b4ea2b5f45b9e12304bae": {
          "model_module": "@jupyter-widgets/controls",
          "model_name": "FloatProgressModel",
          "model_module_version": "1.5.0",
          "state": {
            "_dom_classes": [],
            "_model_module": "@jupyter-widgets/controls",
            "_model_module_version": "1.5.0",
            "_model_name": "FloatProgressModel",
            "_view_count": null,
            "_view_module": "@jupyter-widgets/controls",
            "_view_module_version": "1.5.0",
            "_view_name": "ProgressView",
            "bar_style": "success",
            "description": "",
            "description_tooltip": null,
            "layout": "IPY_MODEL_dcc21876aa5b49969282783ae744504b",
            "max": 15,
            "min": 0,
            "orientation": "horizontal",
            "style": "IPY_MODEL_4cb8e055c0864ebe8310c17ee9d9aecf",
            "value": 15
          }
        },
        "368fda75254e4057bd10c7ab4ed33459": {
          "model_module": "@jupyter-widgets/controls",
          "model_name": "HTMLModel",
          "model_module_version": "1.5.0",
          "state": {
            "_dom_classes": [],
            "_model_module": "@jupyter-widgets/controls",
            "_model_module_version": "1.5.0",
            "_model_name": "HTMLModel",
            "_view_count": null,
            "_view_module": "@jupyter-widgets/controls",
            "_view_module_version": "1.5.0",
            "_view_name": "HTMLView",
            "description": "",
            "description_tooltip": null,
            "layout": "IPY_MODEL_1b6e38b884f342b38fae0a210a1a518c",
            "placeholder": "​",
            "style": "IPY_MODEL_9b42feaf76914f56b10d887014fcf237",
            "value": " 15/15 [00:08&lt;00:00,  1.41it/s]"
          }
        },
        "0083819187534a6a807505fa9f82cc99": {
          "model_module": "@jupyter-widgets/base",
          "model_name": "LayoutModel",
          "model_module_version": "1.2.0",
          "state": {
            "_model_module": "@jupyter-widgets/base",
            "_model_module_version": "1.2.0",
            "_model_name": "LayoutModel",
            "_view_count": null,
            "_view_module": "@jupyter-widgets/base",
            "_view_module_version": "1.2.0",
            "_view_name": "LayoutView",
            "align_content": null,
            "align_items": null,
            "align_self": null,
            "border": null,
            "bottom": null,
            "display": null,
            "flex": null,
            "flex_flow": null,
            "grid_area": null,
            "grid_auto_columns": null,
            "grid_auto_flow": null,
            "grid_auto_rows": null,
            "grid_column": null,
            "grid_gap": null,
            "grid_row": null,
            "grid_template_areas": null,
            "grid_template_columns": null,
            "grid_template_rows": null,
            "height": null,
            "justify_content": null,
            "justify_items": null,
            "left": null,
            "margin": null,
            "max_height": null,
            "max_width": null,
            "min_height": null,
            "min_width": null,
            "object_fit": null,
            "object_position": null,
            "order": null,
            "overflow": null,
            "overflow_x": null,
            "overflow_y": null,
            "padding": null,
            "right": null,
            "top": null,
            "visibility": null,
            "width": null
          }
        },
        "16798c699b74421dbc4d9f4586fa9e7c": {
          "model_module": "@jupyter-widgets/base",
          "model_name": "LayoutModel",
          "model_module_version": "1.2.0",
          "state": {
            "_model_module": "@jupyter-widgets/base",
            "_model_module_version": "1.2.0",
            "_model_name": "LayoutModel",
            "_view_count": null,
            "_view_module": "@jupyter-widgets/base",
            "_view_module_version": "1.2.0",
            "_view_name": "LayoutView",
            "align_content": null,
            "align_items": null,
            "align_self": null,
            "border": null,
            "bottom": null,
            "display": null,
            "flex": null,
            "flex_flow": null,
            "grid_area": null,
            "grid_auto_columns": null,
            "grid_auto_flow": null,
            "grid_auto_rows": null,
            "grid_column": null,
            "grid_gap": null,
            "grid_row": null,
            "grid_template_areas": null,
            "grid_template_columns": null,
            "grid_template_rows": null,
            "height": null,
            "justify_content": null,
            "justify_items": null,
            "left": null,
            "margin": null,
            "max_height": null,
            "max_width": null,
            "min_height": null,
            "min_width": null,
            "object_fit": null,
            "object_position": null,
            "order": null,
            "overflow": null,
            "overflow_x": null,
            "overflow_y": null,
            "padding": null,
            "right": null,
            "top": null,
            "visibility": null,
            "width": null
          }
        },
        "8ff8dfdd03cb4610bb3da6e3183750ba": {
          "model_module": "@jupyter-widgets/controls",
          "model_name": "DescriptionStyleModel",
          "model_module_version": "1.5.0",
          "state": {
            "_model_module": "@jupyter-widgets/controls",
            "_model_module_version": "1.5.0",
            "_model_name": "DescriptionStyleModel",
            "_view_count": null,
            "_view_module": "@jupyter-widgets/base",
            "_view_module_version": "1.2.0",
            "_view_name": "StyleView",
            "description_width": ""
          }
        },
        "dcc21876aa5b49969282783ae744504b": {
          "model_module": "@jupyter-widgets/base",
          "model_name": "LayoutModel",
          "model_module_version": "1.2.0",
          "state": {
            "_model_module": "@jupyter-widgets/base",
            "_model_module_version": "1.2.0",
            "_model_name": "LayoutModel",
            "_view_count": null,
            "_view_module": "@jupyter-widgets/base",
            "_view_module_version": "1.2.0",
            "_view_name": "LayoutView",
            "align_content": null,
            "align_items": null,
            "align_self": null,
            "border": null,
            "bottom": null,
            "display": null,
            "flex": null,
            "flex_flow": null,
            "grid_area": null,
            "grid_auto_columns": null,
            "grid_auto_flow": null,
            "grid_auto_rows": null,
            "grid_column": null,
            "grid_gap": null,
            "grid_row": null,
            "grid_template_areas": null,
            "grid_template_columns": null,
            "grid_template_rows": null,
            "height": null,
            "justify_content": null,
            "justify_items": null,
            "left": null,
            "margin": null,
            "max_height": null,
            "max_width": null,
            "min_height": null,
            "min_width": null,
            "object_fit": null,
            "object_position": null,
            "order": null,
            "overflow": null,
            "overflow_x": null,
            "overflow_y": null,
            "padding": null,
            "right": null,
            "top": null,
            "visibility": null,
            "width": null
          }
        },
        "4cb8e055c0864ebe8310c17ee9d9aecf": {
          "model_module": "@jupyter-widgets/controls",
          "model_name": "ProgressStyleModel",
          "model_module_version": "1.5.0",
          "state": {
            "_model_module": "@jupyter-widgets/controls",
            "_model_module_version": "1.5.0",
            "_model_name": "ProgressStyleModel",
            "_view_count": null,
            "_view_module": "@jupyter-widgets/base",
            "_view_module_version": "1.2.0",
            "_view_name": "StyleView",
            "bar_color": null,
            "description_width": ""
          }
        },
        "1b6e38b884f342b38fae0a210a1a518c": {
          "model_module": "@jupyter-widgets/base",
          "model_name": "LayoutModel",
          "model_module_version": "1.2.0",
          "state": {
            "_model_module": "@jupyter-widgets/base",
            "_model_module_version": "1.2.0",
            "_model_name": "LayoutModel",
            "_view_count": null,
            "_view_module": "@jupyter-widgets/base",
            "_view_module_version": "1.2.0",
            "_view_name": "LayoutView",
            "align_content": null,
            "align_items": null,
            "align_self": null,
            "border": null,
            "bottom": null,
            "display": null,
            "flex": null,
            "flex_flow": null,
            "grid_area": null,
            "grid_auto_columns": null,
            "grid_auto_flow": null,
            "grid_auto_rows": null,
            "grid_column": null,
            "grid_gap": null,
            "grid_row": null,
            "grid_template_areas": null,
            "grid_template_columns": null,
            "grid_template_rows": null,
            "height": null,
            "justify_content": null,
            "justify_items": null,
            "left": null,
            "margin": null,
            "max_height": null,
            "max_width": null,
            "min_height": null,
            "min_width": null,
            "object_fit": null,
            "object_position": null,
            "order": null,
            "overflow": null,
            "overflow_x": null,
            "overflow_y": null,
            "padding": null,
            "right": null,
            "top": null,
            "visibility": null,
            "width": null
          }
        },
        "9b42feaf76914f56b10d887014fcf237": {
          "model_module": "@jupyter-widgets/controls",
          "model_name": "DescriptionStyleModel",
          "model_module_version": "1.5.0",
          "state": {
            "_model_module": "@jupyter-widgets/controls",
            "_model_module_version": "1.5.0",
            "_model_name": "DescriptionStyleModel",
            "_view_count": null,
            "_view_module": "@jupyter-widgets/base",
            "_view_module_version": "1.2.0",
            "_view_name": "StyleView",
            "description_width": ""
          }
        }
      }
    }
  },
  "cells": [
    {
      "cell_type": "code",
      "execution_count": null,
      "metadata": {
        "id": "NF85ADF63yeP",
        "colab": {
          "base_uri": "https://localhost:8080/"
        },
        "outputId": "91580f95-2446-447e-80be-39e593fec00d"
      },
      "outputs": [
        {
          "output_type": "stream",
          "name": "stdout",
          "text": [
            "Drive already mounted at /content/gdrive; to attempt to forcibly remount, call drive.mount(\"/content/gdrive\", force_remount=True).\n"
          ]
        }
      ],
      "source": [
        "from google.colab import drive\n",
        "drive.mount('/content/gdrive')"
      ]
    },
    {
      "cell_type": "code",
      "source": [
        "from sklearn.feature_extraction.text import TfidfVectorizer\n",
        "from sklearn.metrics.pairwise import cosine_similarity\n",
        "from scipy.sparse.linalg import svds\n",
        "import tensorflow as tf\n",
        "from tensorflow.keras.models import Sequential\n",
        "from tensorflow.keras.layers import Dense, Dropout\n",
        "from tensorflow.keras.optimizers import Adam\n",
        "from tensorflow.keras.callbacks import EarlyStopping\n",
        "import pandas as pd\n",
        "import numpy as np\n",
        "from sklearn.feature_extraction.text import TfidfVectorizer\n",
        "from sklearn.metrics.pairwise import cosine_similarity\n",
        "from nltk.tokenize import word_tokenize\n",
        "from nltk.stem import PorterStemmer, WordNetLemmatizer\n",
        "from nltk.corpus import stopwords\n",
        "import re\n",
        "\n",
        "poi_df = pd.read_csv('/content/gdrive/MyDrive/cleaned_Job-rec/poi_cleaned.csv')\n",
        "job_views_df = pd.read_csv('/content/gdrive/MyDrive/cleaned_Job-rec/job_views_cleaned.csv')\n",
        "experience_df = pd.read_csv('/content/gdrive/MyDrive/Job-rec/Experience.csv')\n",
        "final_df = pd.read_csv('/content/gdrive/MyDrive/Job-rec/Combined_Jobs_Final.csv')\n",
        "\n",
        "experience_df['Can.Contact.Employer'] = experience_df['Can.Contact.Employer'].fillna(False)\n",
        "# create a dictionary of state names and codes\n",
        "state_dict = {\n",
        "    'California': 'CA',\n",
        "    'New York': 'NY',\n",
        "    'Texas': 'TX',\n",
        "    \"Phoenix\": (\"Arizona\", \"AZ\"),\n",
        "    \"Philadelphia\": (\"Pennsylvania\", \"PA\"),\n",
        "    \"San Antonio\": (\"Texas\", \"TX\"),\n",
        "    \"San Diego\": (\"California\", \"CA\"),\n",
        "    \"Dallas\": (\"Texas\", \"TX\"),\n",
        "    \"San Jose\": (\"California\", \"CA\"),\n",
        "    \"Austin\": (\"Texas\", \"TX\"),\n",
        "    \"Jacksonville\": (\"Florida\", \"FL\"),\n",
        "    \"Fort Worth\": (\"Texas\", \"TX\"),\n",
        "    \"Columbus\": (\"Ohio\", \"OH\"),\n",
        "    \"San Francisco\": (\"California\", \"CA\"),\n",
        "    \"Charlotte\": (\"North Carolina\", \"NC\"),\n",
        "    \"Indianapolis\": (\"Indiana\", \"IN\"),\n",
        "    \"Seattle\": (\"Washington\", \"WA\"),\n",
        "    \"Denver\": (\"Colorado\", \"CO\"),\n",
        "    \"Washington\": (\"District of Columbia\", \"DC\"),\n",
        "    \"Boston\": (\"Massachusetts\", \"MA\"),\n",
        "    \"Nashville\": (\"Tennessee\", \"TN\"),\n",
        "    \"El Paso\": (\"Texas\", \"TX\"),\n",
        "    \"Detroit\": (\"Michigan\", \"MI\"),\n",
        "    \"Memphis\": (\"Tennessee\", \"TN\"),\n",
        "    \"Portland\": (\"Oregon\", \"OR\"),\n",
        "    \"Oklahoma City\": (\"Oklahoma\", \"OK\"),\n",
        "    \"Las Vegas\": (\"Nevada\", \"NV\"),\n",
        "    \"Louisville\": (\"Kentucky\", \"KY\"),\n",
        "    \"Baltimore\": (\"Maryland\", \"MD\"),\n",
        "    \"Milwaukee\": (\"Wisconsin\", \"WI\"),\n",
        "    \"Albuquerque\": (\"New Mexico\", \"NM\"),\n",
        "    \"Tucson\": (\"Arizona\", \"AZ\"),\n",
        "    \"Fresno\": (\"California\", \"CA\"),\n",
        "    \"Sacramento\": (\"California\", \"CA\"),\n",
        "    \"Mesa\": (\"Arizona\", \"AZ\"),\n",
        "    \"Atlanta\": (\"Georgia\", \"GA\"),\n",
        "    \"Kansas City\": (\"Missouri\", \"MO\"),\n",
        "    \"Colorado Springs\": (\"Colorado\", \"CO\"),\n",
        "    \"Miami\": (\"Florida\", \"FL\"),\n",
        "    \"Raleigh\": (\"North Carolina\", \"NC\"),\n",
        "    \"Omaha\": (\"Nebraska\", \"NE\"),\n",
        "    \"Long Beach\": (\"California\", \"CA\"),\n",
        "    \"Virginia Beach\": (\"Virginia\", \"VA\"),\n",
        "    \"Oakland\": (\"California\", \"CA\"),\n",
        "    \"Minneapolis\": (\"Minnesota\", \"MN\"),\n",
        "    \"Tulsa\": (\"Oklahoma\", \"OK\"),\n",
        "    \"Wichita\": (\"Kansas\", \"KS\"),\n",
        "    \"New Orleans\": (\"Louisiana\", \"LA\"),\n",
        "    \"Arlington\": (\"Texas\", \"TX\"),\n",
        "}\n",
        "\n",
        "# replace null values with the corresponding state name and code based on the 'City' column\n",
        "experience_df['State.Name'].fillna(experience_df['City'].map(lambda x: state_dict.get(x, None)), inplace=True)\n",
        "experience_df['State.Code'].fillna(experience_df['City'].map(lambda x: state_dict.get(x, None)), inplace=True)\n",
        "experience_df['City'] = experience_df.groupby('Employer.Name')['City'].transform(lambda x: x.fillna(method='ffill').fillna(method='bfill'))\n",
        "experience_df['Job.Description'] = experience_df.groupby('Position.Name')['Job.Description'].transform(lambda x: x.fillna(method='ffill').fillna(method='bfill'))\n",
        "\n",
        "final_df = final_df.drop(\"Address\", axis=1)\n",
        "final_df = final_df.drop(\"Requirements\", axis=1)\n",
        "final_df = final_df.drop(\"Salary\", axis=1)\n",
        "# Import necessary libraries\n",
        "from geopy.geocoders import Nominatim\n",
        "\n",
        "# Create a geolocator object\n",
        "geolocator = Nominatim(user_agent=\"my_application\")\n",
        "\n",
        "# Define a function to get city name from latitude and longitude values\n",
        "def get_city(lat, long):\n",
        "    location = geolocator.reverse(f\"{lat}, {long}\")\n",
        "    address = location.raw['address']\n",
        "    city = address.get('city', '')\n",
        "    return city\n",
        "\n",
        "# Fill the null values in the \"City\" column with the help of the \"Latitude\" and \"Longitude\" columns\n",
        "final_df['City'] = final_df.apply(lambda x: get_city(x['Latitude'], x['Longitude']) if pd.isnull(x['City']) else x['City'], axis=1)\n",
        "final_df = final_df.drop([\"Latitude\", \"Longitude\"], axis=1)\n",
        "final_df = final_df.drop([\"Listing.Start\", \"Created.At\", \"Updated.At\", \"Listing.End\"], axis=1)\n",
        "final_df = final_df.drop(final_df.tail(90).index)\n"
      ],
      "metadata": {
        "id": "kdGcYV00xjMp"
      },
      "execution_count": null,
      "outputs": []
    },
    {
      "cell_type": "code",
      "source": [
        "poi_df.dropna(subset=['Position.Of.Interest'], inplace=True)\n"
      ],
      "metadata": {
        "id": "H7244URESqDc"
      },
      "execution_count": null,
      "outputs": []
    },
    {
      "cell_type": "code",
      "source": [
        "from scipy.sparse import coo_matrix\n",
        "\n",
        "user_items = coo_matrix((job_views_df['View.Duration'], (job_views_df['Applicant.ID'], job_views_df['Job.ID'])))"
      ],
      "metadata": {
        "id": "pw7zZx-PyfXJ"
      },
      "execution_count": null,
      "outputs": []
    },
    {
      "cell_type": "code",
      "source": [
        "pip install implicit\n"
      ],
      "metadata": {
        "colab": {
          "base_uri": "https://localhost:8080/"
        },
        "id": "16_LYXkEy_ZQ",
        "outputId": "10d3b6f3-db98-4a87-a6c8-355547db8a0d"
      },
      "execution_count": null,
      "outputs": [
        {
          "output_type": "stream",
          "name": "stdout",
          "text": [
            "Looking in indexes: https://pypi.org/simple, https://us-python.pkg.dev/colab-wheels/public/simple/\n",
            "Requirement already satisfied: implicit in /usr/local/lib/python3.10/dist-packages (0.6.2)\n",
            "Requirement already satisfied: tqdm>=4.27 in /usr/local/lib/python3.10/dist-packages (from implicit) (4.65.0)\n",
            "Requirement already satisfied: scipy>=0.16 in /usr/local/lib/python3.10/dist-packages (from implicit) (1.10.1)\n",
            "Requirement already satisfied: numpy in /usr/local/lib/python3.10/dist-packages (from implicit) (1.22.4)\n"
          ]
        }
      ]
    },
    {
      "cell_type": "markdown",
      "source": [],
      "metadata": {
        "id": "4ANw-5aop8C3"
      }
    },
    {
      "cell_type": "code",
      "source": [
        "from implicit.als import AlternatingLeastSquares\n",
        "\n",
        "model = AlternatingLeastSquares(factors=50)\n",
        "model.fit(user_items)\n"
      ],
      "metadata": {
        "colab": {
          "base_uri": "https://localhost:8080/",
          "height": 104,
          "referenced_widgets": [
            "41b53c3331e64e30adf141fa0b1539ae",
            "13356433023f4373b8df31e4faed67f4",
            "cd6601e3347a4d8290d27f2f8704a179",
            "a77edfa377444c5b85a38ede2d67489b",
            "e122bbc2a17547bc876fe669773cf01e",
            "d65cc7844dd8418fb68b4f2ed32a7557",
            "596ba22ac79b4e1ca85cd7c0f8444fa7",
            "42ea0727062d48b5bc708f6b9403ed0f",
            "f91687fb4cf64e0db0452c6f3b3f93d1",
            "8a42d24309794d2aa6ef8748eb80df63",
            "708fe44e11c5443c8934bbf43bf260d6"
          ]
        },
        "id": "WC98JIlmzDOS",
        "outputId": "16e52fe8-4a44-4adb-fafb-09391d3ad877"
      },
      "execution_count": null,
      "outputs": [
        {
          "output_type": "stream",
          "name": "stderr",
          "text": [
            "/usr/local/lib/python3.10/dist-packages/implicit/utils.py:138: ParameterWarning: Method expects CSR input, and was passed coo_matrix instead. Converting to CSR took 0.006926298141479492 seconds\n",
            "  warnings.warn(\n"
          ]
        },
        {
          "output_type": "display_data",
          "data": {
            "text/plain": [
              "  0%|          | 0/15 [00:00<?, ?it/s]"
            ],
            "application/vnd.jupyter.widget-view+json": {
              "version_major": 2,
              "version_minor": 0,
              "model_id": "41b53c3331e64e30adf141fa0b1539ae"
            }
          },
          "metadata": {}
        }
      ]
    },
    {
      "cell_type": "code",
      "source": [
        "from sklearn.feature_extraction.text import TfidfVectorizer\n",
        "from sklearn.metrics.pairwise import cosine_similarity\n",
        "from scipy import sparse\n",
        "import numpy as np\n",
        "import os\n",
        "from implicit.als import AlternatingLeastSquares\n",
        "\n",
        "from scipy.sparse import coo_matrix\n",
        "user_items = coo_matrix((job_views_df['View.Duration'], (job_views_df['Applicant.ID'], job_views_df['Job.ID'])))\n",
        "\n",
        "model = AlternatingLeastSquares(factors=50)\n",
        "model.fit(user_items)\n",
        "# Define batch size\n",
        "batch_size = 1000\n",
        "\n",
        "# Convert job attributes to a sparse matrix\n",
        "tfidf = TfidfVectorizer(stop_words='english', max_features=5000)\n",
        "\n",
        "# Precompute similarities and store in a file\n",
        "if not os.path.exists('similarities.npz'):\n",
        "    # Iterate over batches of data\n",
        "    cosine_similarities = None\n",
        "    for i in range(0, len(final_df), batch_size):\n",
        "        job_attributes = final_df.iloc[i:i+batch_size][['Title', 'Position', 'Company', 'City', 'State.Name', 'Industry', 'Job.Description']].fillna('')\n",
        "        job_matrix = tfidf.fit_transform(job_attributes.apply(lambda x: ' '.join(x), axis=1))\n",
        "        job_matrix_sparse = sparse.csr_matrix(job_matrix)\n",
        "        batch_cosine_similarities = cosine_similarity(job_matrix_sparse)\n",
        "        if cosine_similarities is None:\n",
        "            cosine_similarities = batch_cosine_similarities\n",
        "        else:\n",
        "            cosine_similarities = np.concatenate((cosine_similarities, batch_cosine_similarities), axis=0)\n",
        "    np.savez_compressed('similarities.npz', cosine_similarities=cosine_similarities)\n",
        "else:\n",
        "    cosine_similarities = np.load('similarities.npz')['cosine_similarities']\n",
        "\n",
        "def get_recommendations_cb(position_of_interest, cosine_similarities, job_attributes, final_df, top_n=10):\n",
        "    idx = final_df[final_df['Position'] == position_of_interest].index[0]\n",
        "    sim_scores = list(enumerate(cosine_similarities[idx]))\n",
        "    sim_scores = sorted(sim_scores, key=lambda x: x[1], reverse=True)\n",
        "    sim_scores = sim_scores[1:top_n+1]\n",
        "    job_indices = [i[0] for i in sim_scores]\n",
        "    return final_df.iloc[job_indices][['Title', 'Position', 'Company', 'City', 'State.Name', 'Industry', 'Job.Description']]\n",
        "\n"
      ],
      "metadata": {
        "colab": {
          "base_uri": "https://localhost:8080/",
          "height": 104,
          "referenced_widgets": [
            "dccb4baeb32044e1b3b4c5284d42a3ad",
            "932edbf3131049e8a89f08b84b11cd0b",
            "0a2a249b114b4ea2b5f45b9e12304bae",
            "368fda75254e4057bd10c7ab4ed33459",
            "0083819187534a6a807505fa9f82cc99",
            "16798c699b74421dbc4d9f4586fa9e7c",
            "8ff8dfdd03cb4610bb3da6e3183750ba",
            "dcc21876aa5b49969282783ae744504b",
            "4cb8e055c0864ebe8310c17ee9d9aecf",
            "1b6e38b884f342b38fae0a210a1a518c",
            "9b42feaf76914f56b10d887014fcf237"
          ]
        },
        "id": "ftnRr4Nu6cpv",
        "outputId": "0f268140-94e6-47b0-b2ae-ead9ed6f1851"
      },
      "execution_count": null,
      "outputs": [
        {
          "output_type": "stream",
          "name": "stderr",
          "text": [
            "/usr/local/lib/python3.10/dist-packages/implicit/utils.py:138: ParameterWarning: Method expects CSR input, and was passed coo_matrix instead. Converting to CSR took 0.0011844635009765625 seconds\n",
            "  warnings.warn(\n"
          ]
        },
        {
          "output_type": "display_data",
          "data": {
            "text/plain": [
              "  0%|          | 0/15 [00:00<?, ?it/s]"
            ],
            "application/vnd.jupyter.widget-view+json": {
              "version_major": 2,
              "version_minor": 0,
              "model_id": "dccb4baeb32044e1b3b4c5284d42a3ad"
            }
          },
          "metadata": {}
        }
      ]
    },
    {
      "cell_type": "code",
      "source": [
        "def get_recommendations_hybrid(user_id, model, job_attributes, final_df, top_n=10):\n",
        "    job_scores = model.user_factors[user_id].dot(job_matrix.T)\n",
        "    job_scores = np.squeeze(np.asarray(job_scores))\n",
        "    job_scores.all()\n",
        "    top_job_indices_cf = np.argpartition(-job_scores, top_n)[:top_n]\n",
        "    top_job_indices_cf.all()\n",
        "    top_jobs_cf = final_df.iloc[top_job_indices_cf][['Title', 'Position', 'Company', 'City', 'State.Name', 'Industry', 'Job.Description']]\n",
        "    top_jobs_cb = get_recommendations_cb(poi_df[poi_df['Applicant.ID'] == user_id]['Position.Of.Interest'].iloc[0], cosine_similarities, job_attributes, final_df, top_n=top_n)\n",
        "    hybrid_scores = (0.5 * job_scores[top_job_indices_cf]) + (0.5 * cosine_similarities[top_job_indices_cf, :][:, top_jobs_cb.index].sum(axis=1))\n",
        "    top_job_indices_hybrid = np.argsort(hybrid_scores)[::-1][:top_n]\n",
        "    top_jobs_hybrid = final_df.iloc[top_job_indices_hybrid][['Title', 'Position', 'Company', 'City', 'State.Name', 'Industry', 'Job.Description']]\n",
        "    return top_jobs_hybrid"
      ],
      "metadata": {
        "id": "o_pSCs5BVur7"
      },
      "execution_count": null,
      "outputs": []
    },
    {
      "cell_type": "code",
      "source": [
        "def get_recommendations_hybrid(user_id, model, job_attributes, final_df, top_n=10):\n",
        "    job_scores = model.user_factors[user_id].dot(job_matrix.T)\n",
        "    job_scores = np.squeeze(np.asarray(job_scores))\n",
        "    \n",
        "    # Split the job_scores array into smaller arrays of size top_n\n",
        "    job_score_chunks = [job_scores[i:i+top_n] for i in range(0, len(job_scores), top_n)]\n",
        "    \n",
        "    # Sort each of the smaller arrays separately to get the top_n elements\n",
        "    top_job_indices_cf = np.concatenate([np.argsort(chunk)[::-1][:top_n] for chunk in job_score_chunks])\n",
        "    \n",
        "    top_jobs_cf = final_df.iloc[top_job_indices_cf][['Title', 'Position', 'Company', 'City', 'State.Name', 'Industry', 'Job.Description']]\n",
        "    top_jobs_cb = get_recommendations_cb(poi_df[poi_df['Applicant.ID'] == user_id]['Position.Of.Interest'].iloc[0], cosine_similarities, job_attributes, final_df, top_n=top_n)\n",
        "\n",
        "    return top_jobs_cf, top_jobs_cb\n"
      ],
      "metadata": {
        "id": "ejo4Qe7Wfk3P"
      },
      "execution_count": null,
      "outputs": []
    },
    {
      "cell_type": "code",
      "source": [
        "get_recommendations_hybrid(10003)\n"
      ],
      "metadata": {
        "colab": {
          "base_uri": "https://localhost:8080/",
          "height": 433
        },
        "id": "MzsPM6nVh4hN",
        "outputId": "c5ec7ef8-b1ae-40ef-9517-0fd16a44cc5d"
      },
      "execution_count": null,
      "outputs": [
        {
          "output_type": "error",
          "ename": "ValueError",
          "evalue": "ignored",
          "traceback": [
            "\u001b[0;31m---------------------------------------------------------------------------\u001b[0m",
            "\u001b[0;31mValueError\u001b[0m                                Traceback (most recent call last)",
            "\u001b[0;32m<ipython-input-245-cd265ec838a9>\u001b[0m in \u001b[0;36m<cell line: 1>\u001b[0;34m()\u001b[0m\n\u001b[0;32m----> 1\u001b[0;31m \u001b[0mget_recommendations_hybrid\u001b[0m\u001b[0;34m(\u001b[0m\u001b[0;36m10003\u001b[0m\u001b[0;34m)\u001b[0m\u001b[0;34m\u001b[0m\u001b[0;34m\u001b[0m\u001b[0m\n\u001b[0m",
            "\u001b[0;32m<ipython-input-244-29638b696947>\u001b[0m in \u001b[0;36mget_recommendations_hybrid\u001b[0;34m(applicant_id, top_n)\u001b[0m\n\u001b[1;32m      6\u001b[0m     \u001b[0muser_items_sparse\u001b[0m \u001b[0;34m=\u001b[0m \u001b[0muser_items\u001b[0m\u001b[0;34m.\u001b[0m\u001b[0mT\u001b[0m\u001b[0;34m.\u001b[0m\u001b[0mtocsr\u001b[0m\u001b[0;34m(\u001b[0m\u001b[0;34m)\u001b[0m\u001b[0;34m\u001b[0m\u001b[0;34m\u001b[0m\u001b[0m\n\u001b[1;32m      7\u001b[0m     \u001b[0muser_index\u001b[0m \u001b[0;34m=\u001b[0m \u001b[0mjob_views_df\u001b[0m\u001b[0;34m[\u001b[0m\u001b[0mjob_views_df\u001b[0m\u001b[0;34m[\u001b[0m\u001b[0;34m'Applicant.ID'\u001b[0m\u001b[0;34m]\u001b[0m \u001b[0;34m==\u001b[0m \u001b[0mapplicant_id\u001b[0m\u001b[0;34m]\u001b[0m\u001b[0;34m[\u001b[0m\u001b[0;34m'Applicant.ID'\u001b[0m\u001b[0;34m]\u001b[0m\u001b[0;34m.\u001b[0m\u001b[0miloc\u001b[0m\u001b[0;34m[\u001b[0m\u001b[0;36m0\u001b[0m\u001b[0;34m]\u001b[0m\u001b[0;34m\u001b[0m\u001b[0;34m\u001b[0m\u001b[0m\n\u001b[0;32m----> 8\u001b[0;31m     \u001b[0mrecommendations\u001b[0m \u001b[0;34m=\u001b[0m \u001b[0mmodel\u001b[0m\u001b[0;34m.\u001b[0m\u001b[0mrecommend\u001b[0m\u001b[0;34m(\u001b[0m\u001b[0muser_index\u001b[0m\u001b[0;34m,\u001b[0m \u001b[0muser_items_sparse\u001b[0m\u001b[0;34m,\u001b[0m \u001b[0mN\u001b[0m\u001b[0;34m=\u001b[0m\u001b[0;36m5\u001b[0m\u001b[0;34m,\u001b[0m \u001b[0mfilter_already_liked_items\u001b[0m\u001b[0;34m=\u001b[0m\u001b[0;32mTrue\u001b[0m\u001b[0;34m)\u001b[0m\u001b[0;34m\u001b[0m\u001b[0;34m\u001b[0m\u001b[0m\n\u001b[0m\u001b[1;32m      9\u001b[0m     \u001b[0mjob_indices_cf\u001b[0m \u001b[0;34m=\u001b[0m \u001b[0;34m[\u001b[0m\u001b[0mrecommendation\u001b[0m\u001b[0;34m[\u001b[0m\u001b[0;36m0\u001b[0m\u001b[0;34m]\u001b[0m \u001b[0;32mfor\u001b[0m \u001b[0mrecommendation\u001b[0m \u001b[0;32min\u001b[0m \u001b[0mrecommendations\u001b[0m\u001b[0;34m]\u001b[0m\u001b[0;34m\u001b[0m\u001b[0;34m\u001b[0m\u001b[0m\n\u001b[1;32m     10\u001b[0m \u001b[0;34m\u001b[0m\u001b[0m\n",
            "\u001b[0;32m/usr/local/lib/python3.10/dist-packages/implicit/cpu/matrix_factorization_base.py\u001b[0m in \u001b[0;36mrecommend\u001b[0;34m(self, userid, user_items, N, filter_already_liked_items, filter_items, recalculate_user, items)\u001b[0m\n\u001b[1;32m     47\u001b[0m             \u001b[0muser_count\u001b[0m \u001b[0;34m=\u001b[0m \u001b[0;36m1\u001b[0m \u001b[0;32mif\u001b[0m \u001b[0mnp\u001b[0m\u001b[0;34m.\u001b[0m\u001b[0misscalar\u001b[0m\u001b[0;34m(\u001b[0m\u001b[0muserid\u001b[0m\u001b[0;34m)\u001b[0m \u001b[0;32melse\u001b[0m \u001b[0mlen\u001b[0m\u001b[0;34m(\u001b[0m\u001b[0muserid\u001b[0m\u001b[0;34m)\u001b[0m\u001b[0;34m\u001b[0m\u001b[0;34m\u001b[0m\u001b[0m\n\u001b[1;32m     48\u001b[0m             \u001b[0;32mif\u001b[0m \u001b[0muser_items\u001b[0m\u001b[0;34m.\u001b[0m\u001b[0mshape\u001b[0m\u001b[0;34m[\u001b[0m\u001b[0;36m0\u001b[0m\u001b[0;34m]\u001b[0m \u001b[0;34m!=\u001b[0m \u001b[0muser_count\u001b[0m\u001b[0;34m:\u001b[0m\u001b[0;34m\u001b[0m\u001b[0;34m\u001b[0m\u001b[0m\n\u001b[0;32m---> 49\u001b[0;31m                 \u001b[0;32mraise\u001b[0m \u001b[0mValueError\u001b[0m\u001b[0;34m(\u001b[0m\u001b[0;34m\"user_items must contain 1 row for every user in userids\"\u001b[0m\u001b[0;34m)\u001b[0m\u001b[0;34m\u001b[0m\u001b[0;34m\u001b[0m\u001b[0m\n\u001b[0m\u001b[1;32m     50\u001b[0m \u001b[0;34m\u001b[0m\u001b[0m\n\u001b[1;32m     51\u001b[0m         \u001b[0muser\u001b[0m \u001b[0;34m=\u001b[0m \u001b[0mself\u001b[0m\u001b[0;34m.\u001b[0m\u001b[0m_user_factor\u001b[0m\u001b[0;34m(\u001b[0m\u001b[0muserid\u001b[0m\u001b[0;34m,\u001b[0m \u001b[0muser_items\u001b[0m\u001b[0;34m,\u001b[0m \u001b[0mrecalculate_user\u001b[0m\u001b[0;34m)\u001b[0m\u001b[0;34m\u001b[0m\u001b[0;34m\u001b[0m\u001b[0m\n",
            "\u001b[0;31mValueError\u001b[0m: user_items must contain 1 row for every user in userids"
          ]
        }
      ]
    },
    {
      "cell_type": "code",
      "source": [
        "user_id = 9970\n",
        "get_recommendations_hybrid(user_id, model, job_attributes, final_df, top_n=10)"
      ],
      "metadata": {
        "colab": {
          "base_uri": "https://localhost:8080/",
          "height": 571
        },
        "id": "o_8tUDl6HTiP",
        "outputId": "809fded4-d245-40ac-d39c-5fdde38619a6"
      },
      "execution_count": null,
      "outputs": [
        {
          "output_type": "error",
          "ename": "ValueError",
          "evalue": "ignored",
          "traceback": [
            "\u001b[0;31m---------------------------------------------------------------------------\u001b[0m",
            "\u001b[0;31mValueError\u001b[0m                                Traceback (most recent call last)",
            "\u001b[0;32m<ipython-input-141-7f3e79629c6b>\u001b[0m in \u001b[0;36m<cell line: 2>\u001b[0;34m()\u001b[0m\n\u001b[1;32m      1\u001b[0m \u001b[0muser_id\u001b[0m \u001b[0;34m=\u001b[0m \u001b[0;36m9970\u001b[0m\u001b[0;34m\u001b[0m\u001b[0;34m\u001b[0m\u001b[0m\n\u001b[0;32m----> 2\u001b[0;31m \u001b[0mget_recommendations_hybrid\u001b[0m\u001b[0;34m(\u001b[0m\u001b[0muser_id\u001b[0m\u001b[0;34m,\u001b[0m \u001b[0mmodel\u001b[0m\u001b[0;34m,\u001b[0m \u001b[0mjob_attributes\u001b[0m\u001b[0;34m,\u001b[0m \u001b[0mfinal_df\u001b[0m\u001b[0;34m,\u001b[0m \u001b[0mtop_n\u001b[0m\u001b[0;34m=\u001b[0m\u001b[0;36m10\u001b[0m\u001b[0;34m)\u001b[0m\u001b[0;34m\u001b[0m\u001b[0;34m\u001b[0m\u001b[0m\n\u001b[0m",
            "\u001b[0;32m<ipython-input-140-0bda6a50d7ff>\u001b[0m in \u001b[0;36mget_recommendations_hybrid\u001b[0;34m(user_id, model, job_attributes, final_df, top_n)\u001b[0m\n\u001b[1;32m      2\u001b[0m     \u001b[0mjob_scores\u001b[0m \u001b[0;34m=\u001b[0m \u001b[0mmodel\u001b[0m\u001b[0;34m.\u001b[0m\u001b[0muser_factors\u001b[0m\u001b[0;34m[\u001b[0m\u001b[0muser_id\u001b[0m\u001b[0;34m]\u001b[0m\u001b[0;34m.\u001b[0m\u001b[0mdot\u001b[0m\u001b[0;34m(\u001b[0m\u001b[0mjob_matrix\u001b[0m\u001b[0;34m.\u001b[0m\u001b[0mT\u001b[0m\u001b[0;34m)\u001b[0m\u001b[0;34m\u001b[0m\u001b[0;34m\u001b[0m\u001b[0m\n\u001b[1;32m      3\u001b[0m     \u001b[0mjob_scores\u001b[0m \u001b[0;34m=\u001b[0m \u001b[0mnp\u001b[0m\u001b[0;34m.\u001b[0m\u001b[0msqueeze\u001b[0m\u001b[0;34m(\u001b[0m\u001b[0mnp\u001b[0m\u001b[0;34m.\u001b[0m\u001b[0masarray\u001b[0m\u001b[0;34m(\u001b[0m\u001b[0mjob_scores\u001b[0m\u001b[0;34m)\u001b[0m\u001b[0;34m)\u001b[0m\u001b[0;34m\u001b[0m\u001b[0;34m\u001b[0m\u001b[0m\n\u001b[0;32m----> 4\u001b[0;31m     \u001b[0mjob_scores\u001b[0m\u001b[0;34m.\u001b[0m\u001b[0mall\u001b[0m\u001b[0;34m(\u001b[0m\u001b[0;34m)\u001b[0m\u001b[0;34m\u001b[0m\u001b[0;34m\u001b[0m\u001b[0m\n\u001b[0m\u001b[1;32m      5\u001b[0m     \u001b[0mtop_job_indices_cf\u001b[0m \u001b[0;34m=\u001b[0m \u001b[0mnp\u001b[0m\u001b[0;34m.\u001b[0m\u001b[0margpartition\u001b[0m\u001b[0;34m(\u001b[0m\u001b[0;34m-\u001b[0m\u001b[0mjob_scores\u001b[0m\u001b[0;34m,\u001b[0m \u001b[0mtop_n\u001b[0m\u001b[0;34m)\u001b[0m\u001b[0;34m[\u001b[0m\u001b[0;34m:\u001b[0m\u001b[0mtop_n\u001b[0m\u001b[0;34m]\u001b[0m\u001b[0;34m\u001b[0m\u001b[0;34m\u001b[0m\u001b[0m\n\u001b[1;32m      6\u001b[0m     \u001b[0mtop_job_indices_cf\u001b[0m\u001b[0;34m.\u001b[0m\u001b[0mall\u001b[0m\u001b[0;34m(\u001b[0m\u001b[0;34m)\u001b[0m\u001b[0;34m\u001b[0m\u001b[0;34m\u001b[0m\u001b[0m\n",
            "\u001b[0;32m/usr/local/lib/python3.10/dist-packages/numpy/core/_methods.py\u001b[0m in \u001b[0;36m_all\u001b[0;34m(a, axis, dtype, out, keepdims, where)\u001b[0m\n\u001b[1;32m     61\u001b[0m     \u001b[0;31m# Parsing keyword arguments is currently fairly slow, so avoid it for now\u001b[0m\u001b[0;34m\u001b[0m\u001b[0;34m\u001b[0m\u001b[0m\n\u001b[1;32m     62\u001b[0m     \u001b[0;32mif\u001b[0m \u001b[0mwhere\u001b[0m \u001b[0;32mis\u001b[0m \u001b[0;32mTrue\u001b[0m\u001b[0;34m:\u001b[0m\u001b[0;34m\u001b[0m\u001b[0;34m\u001b[0m\u001b[0m\n\u001b[0;32m---> 63\u001b[0;31m         \u001b[0;32mreturn\u001b[0m \u001b[0mumr_all\u001b[0m\u001b[0;34m(\u001b[0m\u001b[0ma\u001b[0m\u001b[0;34m,\u001b[0m \u001b[0maxis\u001b[0m\u001b[0;34m,\u001b[0m \u001b[0mdtype\u001b[0m\u001b[0;34m,\u001b[0m \u001b[0mout\u001b[0m\u001b[0;34m,\u001b[0m \u001b[0mkeepdims\u001b[0m\u001b[0;34m)\u001b[0m\u001b[0;34m\u001b[0m\u001b[0;34m\u001b[0m\u001b[0m\n\u001b[0m\u001b[1;32m     64\u001b[0m     \u001b[0;32mreturn\u001b[0m \u001b[0mumr_all\u001b[0m\u001b[0;34m(\u001b[0m\u001b[0ma\u001b[0m\u001b[0;34m,\u001b[0m \u001b[0maxis\u001b[0m\u001b[0;34m,\u001b[0m \u001b[0mdtype\u001b[0m\u001b[0;34m,\u001b[0m \u001b[0mout\u001b[0m\u001b[0;34m,\u001b[0m \u001b[0mkeepdims\u001b[0m\u001b[0;34m,\u001b[0m \u001b[0mwhere\u001b[0m\u001b[0;34m=\u001b[0m\u001b[0mwhere\u001b[0m\u001b[0;34m)\u001b[0m\u001b[0;34m\u001b[0m\u001b[0;34m\u001b[0m\u001b[0m\n\u001b[1;32m     65\u001b[0m \u001b[0;34m\u001b[0m\u001b[0m\n",
            "\u001b[0;32m/usr/local/lib/python3.10/dist-packages/scipy/sparse/_base.py\u001b[0m in \u001b[0;36m__bool__\u001b[0;34m(self)\u001b[0m\n\u001b[1;32m    335\u001b[0m             \u001b[0;32mreturn\u001b[0m \u001b[0mself\u001b[0m\u001b[0;34m.\u001b[0m\u001b[0mnnz\u001b[0m \u001b[0;34m!=\u001b[0m \u001b[0;36m0\u001b[0m\u001b[0;34m\u001b[0m\u001b[0;34m\u001b[0m\u001b[0m\n\u001b[1;32m    336\u001b[0m         \u001b[0;32melse\u001b[0m\u001b[0;34m:\u001b[0m\u001b[0;34m\u001b[0m\u001b[0;34m\u001b[0m\u001b[0m\n\u001b[0;32m--> 337\u001b[0;31m             raise ValueError(\"The truth value of an array with more than one \"\n\u001b[0m\u001b[1;32m    338\u001b[0m                              \"element is ambiguous. Use a.any() or a.all().\")\n\u001b[1;32m    339\u001b[0m     \u001b[0m__nonzero__\u001b[0m \u001b[0;34m=\u001b[0m \u001b[0m__bool__\u001b[0m\u001b[0;34m\u001b[0m\u001b[0;34m\u001b[0m\u001b[0m\n",
            "\u001b[0;31mValueError\u001b[0m: The truth value of an array with more than one element is ambiguous. Use a.any() or a.all()."
          ]
        }
      ]
    },
    {
      "cell_type": "code",
      "source": [
        "def get_recommendations_hybrid(applicant_id, top_n=10):\n",
        "    # Get the position of interest for the applicant\n",
        "    poi = poi_df[poi_df['Applicant.ID'] == applicant_id]['Position.Of.Interest'].iloc[0]\n",
        "    \n",
        "    # Get the top 5 job recommendations using collaborative filtering\n",
        "    user_items_sparse = user_items.T.tocsr()\n",
        "    user_index = job_views_df[job_views_df['Applicant.ID'] == applicant_id]['Applicant.ID'].iloc[0]\n",
        "    recommendations = model.recommend(user_index, user_items_sparse, N=5, filter_already_liked_items=True)\n",
        "    job_indices_cf = [recommendation[0] for recommendation in recommendations]\n",
        "\n",
        "    # Get the top 5 job recommendations using content-based filtering\n",
        "    job_attributes = final_df[['Title', 'Position', 'Company', 'City', 'State.Name', 'Industry', 'Job.Description']].fillna('')\n",
        "    job_matrix = tfidf.transform(job_attributes.apply(lambda x: ' '.join(x), axis=1))\n",
        "    job_matrix_sparse = sparse.csr_matrix(job_matrix)\n",
        "    similarities = cosine_similarity(job_matrix_sparse)\n",
        "    job_indices_cb = get_recommendations_cb(poi, similarities, job_attributes, final_df, top_n=5).index\n",
        "\n",
        "    # Get the hybrid job recommendations\n",
        "    job_indices = set(job_indices_cf).union(set(job_indices_cb))\n",
        "    job_indices = list(job_indices)[:top_n]\n",
        "    return final_df.iloc[job_indices][['Title', 'Position', 'Company', 'City', 'State.Name', 'Industry', 'Job.Description']]\n"
      ],
      "metadata": {
        "id": "XDNQkBtPhyeo"
      },
      "execution_count": null,
      "outputs": []
    }
  ]
}